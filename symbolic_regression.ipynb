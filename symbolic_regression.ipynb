{
 "cells": [
  {
   "cell_type": "markdown",
   "id": "c73e5e32",
   "metadata": {},
   "source": [
    "# Symbolic regression for feature engineering"
   ]
  },
  {
   "cell_type": "code",
   "execution_count": 1,
   "id": "936fa313",
   "metadata": {},
   "outputs": [],
   "source": [
    "import numpy as np\n",
    "import matplotlib.pyplot as plt\n",
    "import graphviz\n",
    "\n",
    "from sklearn.linear_model import LinearRegression\n",
    "from sklearn.dummy import DummyRegressor\n",
    "from gplearn.genetic import SymbolicTransformer\n",
    "from xgboost import XGBRegressor\n",
    "\n",
    "from sklearn.metrics import r2_score as r2"
   ]
  },
  {
   "cell_type": "markdown",
   "id": "1722fdeb",
   "metadata": {},
   "source": [
    "In case there's a strong physical relation between the features and the target, symbolic regression can serve us as a powerful tool to derive it. As a demonstration, we'll generate a dataset of 20000 entries with three random features, and use the simple inverse square law to generate tagets. We'll also add a bit of random jitter to the target:"
   ]
  },
  {
   "cell_type": "code",
   "execution_count": 2,
   "id": "73c031a9",
   "metadata": {},
   "outputs": [],
   "source": [
    "random_state = 177013"
   ]
  },
  {
   "cell_type": "code",
   "execution_count": 3,
   "id": "654ba85e",
   "metadata": {},
   "outputs": [],
   "source": [
    "rng = np.random.default_rng(random_state)\n",
    "X = rng.integers(low=1, high=10, size=60000).reshape(20000,3)\n",
    "noise = rng.integers(low=-10, high=10, size=20000) / 10.0\n",
    "y = 5. * X[:, 0] * 3. * X[:, 1] / X[:, 2] ** 2 + noise"
   ]
  },
  {
   "cell_type": "markdown",
   "id": "f2cfb9ce",
   "metadata": {},
   "source": [
    "Next, we'll separate a test set of 2000 entries:"
   ]
  },
  {
   "cell_type": "code",
   "execution_count": 4,
   "id": "a2a62751",
   "metadata": {},
   "outputs": [],
   "source": [
    "train_X, test_X = X[:18000], X[18000:]\n",
    "train_y, test_y = y[:18000], y[18000:]"
   ]
  },
  {
   "cell_type": "markdown",
   "id": "6d244d1a",
   "metadata": {},
   "source": [
    "Linear models won't be able to approximate the law too well:"
   ]
  },
  {
   "cell_type": "code",
   "execution_count": 5,
   "id": "3b414ca3",
   "metadata": {},
   "outputs": [],
   "source": [
    "lr = LinearRegression()\n",
    "lr.fit(train_X, train_y)\n",
    "p = lr.predict(test_X)"
   ]
  },
  {
   "cell_type": "code",
   "execution_count": 6,
   "id": "3eab1672",
   "metadata": {},
   "outputs": [
    {
     "data": {
      "text/plain": [
       "0.3810508443460642"
      ]
     },
     "execution_count": 6,
     "metadata": {},
     "output_type": "execute_result"
    }
   ],
   "source": [
    "r2(test_y,p)"
   ]
  },
  {
   "cell_type": "markdown",
   "id": "10c2258d",
   "metadata": {},
   "source": [
    "Evidently, that's just around 38% explained variance. That's still much better than a mean value prediction:"
   ]
  },
  {
   "cell_type": "code",
   "execution_count": 7,
   "id": "d0cdd5ee",
   "metadata": {},
   "outputs": [
    {
     "data": {
      "text/plain": [
       "-0.0010827454932265113"
      ]
     },
     "execution_count": 7,
     "metadata": {},
     "output_type": "execute_result"
    }
   ],
   "source": [
    "dr = DummyRegressor()\n",
    "dr.fit(train_X, train_y)\n",
    "dr.score(test_X, test_y)"
   ]
  },
  {
   "cell_type": "markdown",
   "id": "176be1d2",
   "metadata": {},
   "source": [
    "As the simplified chart pictures, the prediction quality diminishes quickly as the quadratic law kicks in:"
   ]
  },
  {
   "cell_type": "code",
   "execution_count": 8,
   "id": "246ba42a",
   "metadata": {},
   "outputs": [
    {
     "data": {
      "image/png": "[encoded data removed]",
      "text/plain": [
       "<Figure size 720x360 with 1 Axes>"
      ]
     },
     "metadata": {
      "needs_background": "light"
     },
     "output_type": "display_data"
    }
   ],
   "source": [
    "x = np.linspace(0, 2000, 2000)\n",
    "plt.figure(figsize=(10,5))\n",
    "plt.scatter(x, sorted(test_y), alpha=0.5);\n",
    "plt.scatter(x, sorted(p), alpha=0.5);\n",
    "plt.xlabel('order');\n",
    "plt.ylabel('value');"
   ]
  },
  {
   "cell_type": "markdown",
   "id": "f4187af3",
   "metadata": {},
   "source": [
    "Gplearn *SymbolicTransformer()* (sklearn-compatible), however, quickly catches on the correct figure:"
   ]
  },
  {
   "cell_type": "code",
   "execution_count": 9,
   "id": "80b1c037",
   "metadata": {},
   "outputs": [
    {
     "name": "stdout",
     "output_type": "stream",
     "text": [
      "    |   Population Average    |             Best Individual              |\n",
      "---- ------------------------- ------------------------------------------ ----------\n",
      " Gen   Length          Fitness   Length          Fitness      OOB Fitness  Time Left\n",
      "   0    14.73         0.274481       11         0.940718              N/A     30.63s\n",
      "   1    12.06         0.522573       11         0.999992              N/A     13.06s\n",
      "   2    14.25         0.598919       11         0.999992              N/A     13.78s\n",
      "   3    15.24         0.746429       11         0.999992              N/A     12.40s\n",
      "   4    12.97         0.788606       11         0.999992              N/A     11.24s\n",
      "   5     9.61         0.807805       10         0.999992              N/A     10.24s\n",
      "   6     7.58         0.838227       11         0.999992              N/A      8.95s\n",
      "   7     7.07         0.825114        7         0.999992              N/A      8.19s\n",
      "   8     6.93         0.849058        7         0.999992              N/A      8.38s\n",
      "   9     6.98         0.850593        7         0.999992              N/A      7.22s\n",
      "  10     6.86         0.816248        7         0.999992              N/A      6.62s\n",
      "  11     7.11         0.839623        7         0.999992              N/A      6.05s\n",
      "  12     7.07          0.83723        7         0.999992              N/A      5.04s\n",
      "  13     7.04         0.846365        7         0.999992              N/A      4.67s\n",
      "  14     6.96         0.835892        7         0.999992              N/A      3.76s\n",
      "  15     7.11          0.84096        7         0.999992              N/A      2.94s\n",
      "  16     7.02         0.841734        7         0.999992              N/A      2.35s\n",
      "  17     7.00         0.847355        7         0.999992              N/A      1.49s\n",
      "  18     6.99         0.836091        7         0.999992              N/A      1.04s\n",
      "  19     7.03         0.838191        7         0.999992              N/A      0.00s\n"
     ]
    }
   ],
   "source": [
    "function_set = ['add', 'sub', 'mul', 'div', 'sqrt', 'log', 'abs', 'neg', 'inv', 'max', 'min']\n",
    "st = SymbolicTransformer(n_components=1, function_set=function_set, verbose=1, n_jobs=-1, random_state=random_state)\n",
    "new = st.fit_transform(train_X, train_y)"
   ]
  },
  {
   "cell_type": "markdown",
   "id": "09b26c94",
   "metadata": {},
   "source": [
    "In most cases, it is able to represent it in a (X1/X2)\\*(X0/X2) or (X0/X2)/(X2/X1) form:"
   ]
  },
  {
   "cell_type": "code",
   "execution_count": 10,
   "id": "5a5006dc",
   "metadata": {},
   "outputs": [
    {
     "name": "stdout",
     "output_type": "stream",
     "text": [
      "mul(div(X1, X2), div(X0, X2))\n"
     ]
    },
    {
     "data": {
      "image/svg+xml": [
       "<?xml version=\"1.0\" encoding=\"UTF-8\" standalone=\"no\"?>\n",
       "<!DOCTYPE svg PUBLIC \"-//W3C//DTD SVG 1.1//EN\"\n",
       " \"http://www.w3.org/Graphics/SVG/1.1/DTD/svg11.dtd\">\n",
       "<!-- Generated by graphviz version 3.0.0 (20220226.1711)\n",
       " -->\n",
       "<!-- Title: program Pages: 1 -->\n",
       "<svg width=\"278pt\" height=\"188pt\"\n",
       " viewBox=\"0.00 0.00 278.00 188.00\" xmlns=\"http://www.w3.org/2000/svg\" xmlns:xlink=\"http://www.w3.org/1999/xlink\">\n",
       "<g id=\"graph0\" class=\"graph\" transform=\"scale(1 1) rotate(0) translate(4 184)\">\n",
       "<title>program</title>\n",
       "<polygon fill=\"white\" stroke=\"transparent\" points=\"-4,4 -4,-184 274,-184 274,4 -4,4\"/>\n",
       "<!-- 0 -->\n",
       "<g id=\"node1\" class=\"node\">\n",
       "<title>0</title>\n",
       "<ellipse fill=\"#136ed4\" stroke=\"black\" cx=\"135\" cy=\"-162\" rx=\"27\" ry=\"18\"/>\n",
       "<text text-anchor=\"middle\" x=\"135\" y=\"-158.3\" font-family=\"Times New Roman,serif\" font-size=\"14.00\">mul</text>\n",
       "</g>\n",
       "<!-- 1 -->\n",
       "<g id=\"node2\" class=\"node\">\n",
       "<title>1</title>\n",
       "<ellipse fill=\"#136ed4\" stroke=\"black\" cx=\"99\" cy=\"-90\" rx=\"27\" ry=\"18\"/>\n",
       "<text text-anchor=\"middle\" x=\"99\" y=\"-86.3\" font-family=\"Times New Roman,serif\" font-size=\"14.00\">div</text>\n",
       "</g>\n",
       "<!-- 0&#45;&gt;1 -->\n",
       "<g id=\"edge6\" class=\"edge\">\n",
       "<title>0&#45;&gt;1</title>\n",
       "<path fill=\"none\" stroke=\"black\" d=\"M126.65,-144.76C122.29,-136.28 116.85,-125.71 111.96,-116.2\"/>\n",
       "<polygon fill=\"black\" stroke=\"black\" points=\"114.99,-114.44 107.3,-107.15 108.77,-117.64 114.99,-114.44\"/>\n",
       "</g>\n",
       "<!-- 4 -->\n",
       "<g id=\"node5\" class=\"node\">\n",
       "<title>4</title>\n",
       "<ellipse fill=\"#136ed4\" stroke=\"black\" cx=\"171\" cy=\"-90\" rx=\"27\" ry=\"18\"/>\n",
       "<text text-anchor=\"middle\" x=\"171\" y=\"-86.3\" font-family=\"Times New Roman,serif\" font-size=\"14.00\">div</text>\n",
       "</g>\n",
       "<!-- 0&#45;&gt;4 -->\n",
       "<g id=\"edge5\" class=\"edge\">\n",
       "<title>0&#45;&gt;4</title>\n",
       "<path fill=\"none\" stroke=\"black\" d=\"M143.35,-144.76C147.71,-136.28 153.15,-125.71 158.04,-116.2\"/>\n",
       "<polygon fill=\"black\" stroke=\"black\" points=\"161.23,-117.64 162.7,-107.15 155.01,-114.44 161.23,-117.64\"/>\n",
       "</g>\n",
       "<!-- 2 -->\n",
       "<g id=\"node3\" class=\"node\">\n",
       "<title>2</title>\n",
       "<ellipse fill=\"#60a6f6\" stroke=\"black\" cx=\"27\" cy=\"-18\" rx=\"27\" ry=\"18\"/>\n",
       "<text text-anchor=\"middle\" x=\"27\" y=\"-14.3\" font-family=\"Times New Roman,serif\" font-size=\"14.00\">X1</text>\n",
       "</g>\n",
       "<!-- 1&#45;&gt;2 -->\n",
       "<g id=\"edge2\" class=\"edge\">\n",
       "<title>1&#45;&gt;2</title>\n",
       "<path fill=\"none\" stroke=\"black\" d=\"M84.43,-74.83C74.25,-64.94 60.48,-51.55 48.97,-40.36\"/>\n",
       "<polygon fill=\"black\" stroke=\"black\" points=\"51.41,-37.85 41.8,-33.38 46.53,-42.87 51.41,-37.85\"/>\n",
       "</g>\n",
       "<!-- 3 -->\n",
       "<g id=\"node4\" class=\"node\">\n",
       "<title>3</title>\n",
       "<ellipse fill=\"#60a6f6\" stroke=\"black\" cx=\"99\" cy=\"-18\" rx=\"27\" ry=\"18\"/>\n",
       "<text text-anchor=\"middle\" x=\"99\" y=\"-14.3\" font-family=\"Times New Roman,serif\" font-size=\"14.00\">X2</text>\n",
       "</g>\n",
       "<!-- 1&#45;&gt;3 -->\n",
       "<g id=\"edge1\" class=\"edge\">\n",
       "<title>1&#45;&gt;3</title>\n",
       "<path fill=\"none\" stroke=\"black\" d=\"M99,-71.7C99,-63.98 99,-54.71 99,-46.11\"/>\n",
       "<polygon fill=\"black\" stroke=\"black\" points=\"102.5,-46.1 99,-36.1 95.5,-46.1 102.5,-46.1\"/>\n",
       "</g>\n",
       "<!-- 5 -->\n",
       "<g id=\"node6\" class=\"node\">\n",
       "<title>5</title>\n",
       "<ellipse fill=\"#60a6f6\" stroke=\"black\" cx=\"171\" cy=\"-18\" rx=\"27\" ry=\"18\"/>\n",
       "<text text-anchor=\"middle\" x=\"171\" y=\"-14.3\" font-family=\"Times New Roman,serif\" font-size=\"14.00\">X0</text>\n",
       "</g>\n",
       "<!-- 4&#45;&gt;5 -->\n",
       "<g id=\"edge4\" class=\"edge\">\n",
       "<title>4&#45;&gt;5</title>\n",
       "<path fill=\"none\" stroke=\"black\" d=\"M171,-71.7C171,-63.98 171,-54.71 171,-46.11\"/>\n",
       "<polygon fill=\"black\" stroke=\"black\" points=\"174.5,-46.1 171,-36.1 167.5,-46.1 174.5,-46.1\"/>\n",
       "</g>\n",
       "<!-- 6 -->\n",
       "<g id=\"node7\" class=\"node\">\n",
       "<title>6</title>\n",
       "<ellipse fill=\"#60a6f6\" stroke=\"black\" cx=\"243\" cy=\"-18\" rx=\"27\" ry=\"18\"/>\n",
       "<text text-anchor=\"middle\" x=\"243\" y=\"-14.3\" font-family=\"Times New Roman,serif\" font-size=\"14.00\">X2</text>\n",
       "</g>\n",
       "<!-- 4&#45;&gt;6 -->\n",
       "<g id=\"edge3\" class=\"edge\">\n",
       "<title>4&#45;&gt;6</title>\n",
       "<path fill=\"none\" stroke=\"black\" d=\"M185.57,-74.83C195.75,-64.94 209.52,-51.55 221.03,-40.36\"/>\n",
       "<polygon fill=\"black\" stroke=\"black\" points=\"223.47,-42.87 228.2,-33.38 218.59,-37.85 223.47,-42.87\"/>\n",
       "</g>\n",
       "</g>\n",
       "</svg>\n"
      ],
      "text/plain": [
       "<graphviz.sources.Source at 0x1e908150bb0>"
      ]
     },
     "execution_count": 10,
     "metadata": {},
     "output_type": "execute_result"
    }
   ],
   "source": [
    "print(st._best_programs[0])\n",
    "# Comment out the following if you haven't got Graphviz installed:\n",
    "dot_data = st._best_programs[0].export_graphviz()\n",
    "graph = graphviz.Source(dot_data)\n",
    "graph"
   ]
  },
  {
   "cell_type": "markdown",
   "id": "37120851",
   "metadata": {},
   "source": [
    "While in the simplest cases like this we can just as well use *SymbolicRegressor()*, using generated feature for the linear regression works just as well:"
   ]
  },
  {
   "cell_type": "code",
   "execution_count": 11,
   "id": "13586368",
   "metadata": {},
   "outputs": [],
   "source": [
    "new_train = np.hstack([train_X, new[:,0].reshape(18000,1)])\n",
    "new_test = st.transform(test_X)"
   ]
  },
  {
   "cell_type": "code",
   "execution_count": 12,
   "id": "235ddd5c",
   "metadata": {},
   "outputs": [],
   "source": [
    "test_X_new = np.hstack([test_X, new_test[:,0].reshape(2000,1)])"
   ]
  },
  {
   "cell_type": "code",
   "execution_count": 13,
   "id": "b826b9a4",
   "metadata": {},
   "outputs": [],
   "source": [
    "lr.fit (new_train, train_y)\n",
    "p = lr.predict(test_X_new)"
   ]
  },
  {
   "cell_type": "code",
   "execution_count": 14,
   "id": "96d93c3f",
   "metadata": {},
   "outputs": [
    {
     "data": {
      "text/plain": [
       "0.9999837975048632"
      ]
     },
     "execution_count": 14,
     "metadata": {},
     "output_type": "execute_result"
    }
   ],
   "source": [
    "r2(test_y,p)"
   ]
  },
  {
   "cell_type": "markdown",
   "id": "7841cdad",
   "metadata": {},
   "source": [
    "This time, the prediction is industrial quality: explained variance is just around 2e-5 short of perfection, provided with the noise generated - no wonder, since the newly generated feature has a perfectly linear correlation with the target."
   ]
  },
  {
   "cell_type": "code",
   "execution_count": 15,
   "id": "157a5603",
   "metadata": {
    "scrolled": false
   },
   "outputs": [
    {
     "data": {
      "image/png": "[encoded data removed]",
      "text/plain": [
       "<Figure size 720x360 with 1 Axes>"
      ]
     },
     "metadata": {
      "needs_background": "light"
     },
     "output_type": "display_data"
    }
   ],
   "source": [
    "plt.figure(figsize=(10,5))\n",
    "plt.scatter(x, sorted(test_y), alpha=0.5);\n",
    "plt.scatter(x, sorted(p), alpha=0.5);\n",
    "plt.xlabel('order');\n",
    "plt.ylabel('value');"
   ]
  },
  {
   "cell_type": "markdown",
   "id": "5e171454",
   "metadata": {},
   "source": [
    "This is on par, or even slightly better than untuned XGBoost results:"
   ]
  },
  {
   "cell_type": "code",
   "execution_count": 16,
   "id": "b8cee19c",
   "metadata": {},
   "outputs": [],
   "source": [
    "xgb = XGBRegressor(n_jobs=-1, random_state=random_state)\n",
    "xgb.fit(train_X, train_y)\n",
    "p2 = xgb.predict(test_X)"
   ]
  },
  {
   "cell_type": "code",
   "execution_count": 17,
   "id": "e306fc14",
   "metadata": {},
   "outputs": [
    {
     "data": {
      "text/plain": [
       "0.999979916535485"
      ]
     },
     "execution_count": 17,
     "metadata": {},
     "output_type": "execute_result"
    }
   ],
   "source": [
    "r2(test_y,p2)"
   ]
  }
 ],
 "metadata": {
  "kernelspec": {
   "display_name": "Python 3 (ipykernel)",
   "language": "python",
   "name": "python3"
  },
  "language_info": {
   "codemirror_mode": {
    "name": "ipython",
    "version": 3
   },
   "file_extension": ".py",
   "mimetype": "text/x-python",
   "name": "python",
   "nbconvert_exporter": "python",
   "pygments_lexer": "ipython3",
   "version": "3.9.7"
  }
 },
 "nbformat": 4,
 "nbformat_minor": 5
}
